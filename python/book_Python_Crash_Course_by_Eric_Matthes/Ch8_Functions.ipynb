{
 "cells": [
  {
   "cell_type": "markdown",
   "metadata": {},
   "source": [
    "# Defining a Function"
   ]
  },
  {
   "cell_type": "code",
   "execution_count": 1,
   "metadata": {},
   "outputs": [
    {
     "name": "stdout",
     "output_type": "stream",
     "text": [
      "Hello!\n"
     ]
    }
   ],
   "source": [
    "def greet_user():\n",
    "    \"\"\"Display a simple greeting.\"\"\"\n",
    "    print(\"Hello!\")\n",
    " \n",
    "greet_user()"
   ]
  },
  {
   "cell_type": "code",
   "execution_count": 2,
   "metadata": {},
   "outputs": [
    {
     "name": "stdout",
     "output_type": "stream",
     "text": [
      "Hello, Jesse!\n"
     ]
    }
   ],
   "source": [
    "# Passing Information to a Function\n",
    "\n",
    "def greet_user(username):\n",
    "    \"\"\"Display a simple greeting.\"\"\"\n",
    "    print(\"Hello, \" + username.title() + \"!\")\n",
    " \n",
    "greet_user('jesse')\n"
   ]
  },
  {
   "cell_type": "markdown",
   "metadata": {},
   "source": [
    "Arguments and Parameters\n",
    "\n",
    "People sometimes speak of arguments and parameters interchangeably. Don’t be surprised if you see the variables in a function definition referred to as arguments or the \n",
    "variables in a function call referred to as parameters."
   ]
  },
  {
   "cell_type": "markdown",
   "metadata": {},
   "source": [
    "# Passing Arguments"
   ]
  },
  {
   "cell_type": "code",
   "execution_count": 3,
   "metadata": {},
   "outputs": [
    {
     "name": "stdout",
     "output_type": "stream",
     "text": [
      "\n",
      "I have a hamster.\n",
      "My hamster's name is Harry.\n"
     ]
    }
   ],
   "source": [
    "# Positional Arguments\n",
    "\n",
    "def describe_pet(animal_type, pet_name):\n",
    " \"\"\"Display information about a pet.\"\"\"\n",
    " print(\"\\nI have a \" + animal_type + \".\")\n",
    " print(\"My \" + animal_type + \"'s name is \" + pet_name.title() + \".\")\n",
    " \n",
    "describe_pet('hamster', 'harry')"
   ]
  },
  {
   "cell_type": "code",
   "execution_count": 4,
   "metadata": {},
   "outputs": [
    {
     "name": "stdout",
     "output_type": "stream",
     "text": [
      "\n",
      "I have a hamster.\n",
      "My hamster's name is Harry.\n",
      "\n",
      "I have a dog.\n",
      "My dog's name is Willie.\n"
     ]
    }
   ],
   "source": [
    "# Multiple Function Calls\n",
    "\n",
    "def describe_pet(animal_type, pet_name):\n",
    " \"\"\"Display information about a pet.\"\"\"\n",
    " print(\"\\nI have a \" + animal_type + \".\")\n",
    " print(\"My \" + animal_type + \"'s name is \" + pet_name.title() + \".\")\n",
    " \n",
    "describe_pet('hamster', 'harry')\n",
    "describe_pet('dog', 'willie')"
   ]
  },
  {
   "cell_type": "code",
   "execution_count": 5,
   "metadata": {},
   "outputs": [
    {
     "name": "stdout",
     "output_type": "stream",
     "text": [
      "\n",
      "I have a harry.\n",
      "My harry's name is Hamster.\n"
     ]
    }
   ],
   "source": [
    "# Order Matters in Positional Arguments\n",
    "\n",
    "def describe_pet(animal_type, pet_name):\n",
    " \"\"\"Display information about a pet.\"\"\"\n",
    " print(\"\\nI have a \" + animal_type + \".\")\n",
    " print(\"My \" + animal_type + \"'s name is \" + pet_name.title() + \".\")\n",
    " \n",
    "describe_pet('harry', 'hamster')"
   ]
  },
  {
   "cell_type": "code",
   "execution_count": 6,
   "metadata": {},
   "outputs": [
    {
     "name": "stdout",
     "output_type": "stream",
     "text": [
      "\n",
      "I have a hamster.\n",
      "My hamster's name is Harry.\n"
     ]
    }
   ],
   "source": [
    "# Keyword Arguments\n",
    "\n",
    "def describe_pet(animal_type, pet_name):\n",
    " \"\"\"Display information about a pet.\"\"\"\n",
    " print(\"\\nI have a \" + animal_type + \".\")\n",
    " print(\"My \" + animal_type + \"'s name is \" + pet_name.title() + \".\")\n",
    " \n",
    "describe_pet(animal_type='hamster', pet_name='harry')"
   ]
  },
  {
   "cell_type": "code",
   "execution_count": 7,
   "metadata": {},
   "outputs": [
    {
     "name": "stdout",
     "output_type": "stream",
     "text": [
      "\n",
      "I have a dog.\n",
      "My dog's name is Willie.\n"
     ]
    }
   ],
   "source": [
    "# Default Values\n",
    "\n",
    "def describe_pet(pet_name, animal_type='dog'):\n",
    " \"\"\"Display information about a pet.\"\"\"\n",
    " print(\"\\nI have a \" + animal_type + \".\")\n",
    " print(\"My \" + animal_type + \"'s name is \" + pet_name.title() + \".\")\n",
    "\n",
    "describe_pet(pet_name='willie')"
   ]
  },
  {
   "cell_type": "code",
   "execution_count": 8,
   "metadata": {},
   "outputs": [
    {
     "name": "stdout",
     "output_type": "stream",
     "text": [
      "\n",
      "I have a dog.\n",
      "My dog's name is Willie.\n",
      "\n",
      "I have a dog.\n",
      "My dog's name is Willie.\n",
      "\n",
      "I have a hamster.\n",
      "My hamster's name is Harry.\n",
      "\n",
      "I have a hamster.\n",
      "My hamster's name is Harry.\n",
      "\n",
      "I have a hamster.\n",
      "My hamster's name is Harry.\n"
     ]
    }
   ],
   "source": [
    "# Equivalent Function Calls\n",
    "\n",
    "# All of the following calls would work for this function:\n",
    "\n",
    "# A dog named Willie.\n",
    "describe_pet('willie')\n",
    "describe_pet(pet_name='willie')\n",
    "# A hamster named Harry.\n",
    "describe_pet('harry', 'hamster')\n",
    "describe_pet(pet_name='harry', animal_type='hamster')\n",
    "describe_pet(animal_type='hamster', pet_name='harry')"
   ]
  },
  {
   "cell_type": "code",
   "execution_count": 9,
   "metadata": {},
   "outputs": [
    {
     "ename": "TypeError",
     "evalue": "describe_pet() missing 2 required positional arguments: 'animal_type' and 'pet_name'",
     "output_type": "error",
     "traceback": [
      "\u001b[1;31m---------------------------------------------------------------------------\u001b[0m",
      "\u001b[1;31mTypeError\u001b[0m                                 Traceback (most recent call last)",
      "Cell \u001b[1;32mIn[9], line 8\u001b[0m\n\u001b[0;32m      5\u001b[0m  \u001b[38;5;28mprint\u001b[39m(\u001b[38;5;124m\"\u001b[39m\u001b[38;5;130;01m\\n\u001b[39;00m\u001b[38;5;124mI have a \u001b[39m\u001b[38;5;124m\"\u001b[39m \u001b[38;5;241m+\u001b[39m animal_type \u001b[38;5;241m+\u001b[39m \u001b[38;5;124m\"\u001b[39m\u001b[38;5;124m.\u001b[39m\u001b[38;5;124m\"\u001b[39m)\n\u001b[0;32m      6\u001b[0m  \u001b[38;5;28mprint\u001b[39m(\u001b[38;5;124m\"\u001b[39m\u001b[38;5;124mMy \u001b[39m\u001b[38;5;124m\"\u001b[39m \u001b[38;5;241m+\u001b[39m animal_type \u001b[38;5;241m+\u001b[39m \u001b[38;5;124m\"\u001b[39m\u001b[38;5;124m'\u001b[39m\u001b[38;5;124ms name is \u001b[39m\u001b[38;5;124m\"\u001b[39m \u001b[38;5;241m+\u001b[39m pet_name\u001b[38;5;241m.\u001b[39mtitle() \u001b[38;5;241m+\u001b[39m \u001b[38;5;124m\"\u001b[39m\u001b[38;5;124m.\u001b[39m\u001b[38;5;124m\"\u001b[39m)\n\u001b[1;32m----> 8\u001b[0m \u001b[43mdescribe_pet\u001b[49m\u001b[43m(\u001b[49m\u001b[43m)\u001b[49m\n",
      "\u001b[1;31mTypeError\u001b[0m: describe_pet() missing 2 required positional arguments: 'animal_type' and 'pet_name'"
     ]
    }
   ],
   "source": [
    "# Avoiding Argument Errors\n",
    "\n",
    "def describe_pet(animal_type, pet_name):\n",
    " \"\"\"Display information about a pet.\"\"\"\n",
    " print(\"\\nI have a \" + animal_type + \".\")\n",
    " print(\"My \" + animal_type + \"'s name is \" + pet_name.title() + \".\")\n",
    "\n",
    "describe_pet()"
   ]
  },
  {
   "cell_type": "markdown",
   "metadata": {},
   "source": [
    "# Return Values"
   ]
  },
  {
   "cell_type": "code",
   "execution_count": 10,
   "metadata": {},
   "outputs": [
    {
     "name": "stdout",
     "output_type": "stream",
     "text": [
      "Jimi Hendrix\n"
     ]
    }
   ],
   "source": [
    "# Returning a Simple Value\n",
    "\n",
    "def get_formatted_name(first_name, last_name):\n",
    "  \"\"\"Return a full name, neatly formatted.\"\"\"\n",
    "  full_name = first_name + ' ' + last_name\n",
    "  return full_name.title()\n",
    "\n",
    "musician = get_formatted_name('jimi', 'hendrix')\n",
    "print(musician)"
   ]
  },
  {
   "cell_type": "code",
   "execution_count": 11,
   "metadata": {},
   "outputs": [
    {
     "name": "stdout",
     "output_type": "stream",
     "text": [
      "John Lee Hooker\n"
     ]
    }
   ],
   "source": [
    "# Making an Argument Optional\n",
    "\n",
    "def get_formatted_name(first_name, middle_name, last_name):\n",
    " \"\"\"Return a full name, neatly formatted.\"\"\"\n",
    " full_name = first_name + ' ' + middle_name + ' ' + last_name\n",
    " return full_name.title()\n",
    " \n",
    "musician = get_formatted_name('john', 'lee', 'hooker')\n",
    "print(musician)\n"
   ]
  },
  {
   "cell_type": "code",
   "execution_count": 12,
   "metadata": {},
   "outputs": [
    {
     "name": "stdout",
     "output_type": "stream",
     "text": [
      "Jimi Hendrix\n",
      "John Lee Hooker\n"
     ]
    }
   ],
   "source": [
    "def get_formatted_name(first_name, last_name, middle_name=''):\n",
    " \"\"\"Return a full name, neatly formatted.\"\"\"\n",
    " \n",
    " if middle_name:\n",
    "    full_name = first_name + ' ' + middle_name + ' ' + last_name\n",
    " else:\n",
    "    full_name = first_name + ' ' + last_name\n",
    " return full_name.title()\n",
    "\n",
    "musician = get_formatted_name('jimi', 'hendrix')\n",
    "print(musician)\n",
    "musician = get_formatted_name('john', 'hooker', 'lee')\n",
    "print(musician)"
   ]
  },
  {
   "cell_type": "code",
   "execution_count": 14,
   "metadata": {},
   "outputs": [
    {
     "name": "stdout",
     "output_type": "stream",
     "text": [
      "{'first': 'jimi', 'last': 'hendrix'}\n"
     ]
    }
   ],
   "source": [
    "# Returning a Dictionary\n",
    "\n",
    "def build_person(first_name, last_name):\n",
    "    \"\"\"Return a dictionary of information about a person.\"\"\"\n",
    "    person = {'first': first_name, 'last': last_name}\n",
    "    return person\n",
    "\n",
    "musician = build_person('jimi', 'hendrix')\n",
    "print(musician)"
   ]
  },
  {
   "cell_type": "code",
   "execution_count": 15,
   "metadata": {},
   "outputs": [
    {
     "name": "stdout",
     "output_type": "stream",
     "text": [
      "\n",
      "Please tell me your name:\n",
      "\n",
      "Hello, Gurinder Gurinder!\n",
      "\n",
      "Please tell me your name:\n",
      "\n",
      "Hello,  Jeet Kaur!\n",
      "\n",
      "Please tell me your name:\n"
     ]
    }
   ],
   "source": [
    "# Using a Function with a while Loop\n",
    "\n",
    "def get_formatted_name(first_name, last_name):\n",
    "    \"\"\"Return a full name, neatly formatted.\"\"\"\n",
    "    full_name = first_name + ' ' + last_name\n",
    "    return full_name.title()\n",
    "\n",
    "# This is an infinite loop!\n",
    "while True:\n",
    "    print(\"\\nPlease tell me your name:\")\n",
    "    f_name = input(\"First name: \")\n",
    "    l_name = input(\"Last name: \")\n",
    "    \n",
    "    formatted_name = get_formatted_name(f_name, l_name)\n",
    "    print(\"\\nHello, \" + formatted_name + \"!\")"
   ]
  },
  {
   "cell_type": "code",
   "execution_count": 3,
   "metadata": {},
   "outputs": [
    {
     "name": "stdout",
     "output_type": "stream",
     "text": [
      "\n",
      "Please tell me your name:\n",
      "(enter 'q' at any time to quit)\n",
      "\n",
      "Hello, Gurinder Jeet Kaur!\n",
      "\n",
      "Please tell me your name:\n",
      "(enter 'q' at any time to quit)\n"
     ]
    }
   ],
   "source": [
    "def get_formatted_name(first_name, last_name):\n",
    " \"\"\"Return a full name, neatly formatted.\"\"\"\n",
    " \n",
    " full_name = first_name + ' ' + last_name\n",
    " return full_name.title()\n",
    "\n",
    "while True:\n",
    "    print(\"\\nPlease tell me your name:\")\n",
    "    print(\"(enter 'q' at any time to quit)\")\n",
    "    \n",
    "    f_name = input(\"First name: \")\n",
    "    if f_name == 'q':\n",
    "        break\n",
    "    \n",
    "    l_name = input(\"Last name: \")\n",
    "    if l_name == 'q':\n",
    "        break\n",
    "    \n",
    "    formatted_name = get_formatted_name(f_name, l_name)\n",
    "    print(\"\\nHello, \" + formatted_name + \"!\")"
   ]
  },
  {
   "cell_type": "markdown",
   "metadata": {},
   "source": [
    "# Passing a List"
   ]
  },
  {
   "cell_type": "code",
   "execution_count": 4,
   "metadata": {},
   "outputs": [
    {
     "name": "stdout",
     "output_type": "stream",
     "text": [
      "Hello, Hannah!\n",
      "Hello, Ty!\n",
      "Hello, Margot!\n"
     ]
    }
   ],
   "source": [
    "def greet_users(names):\n",
    " \"\"\"Print a simple greeting to each user in the list.\"\"\"\n",
    " \n",
    " for name in names:\n",
    "    msg = \"Hello, \" + name.title() + \"!\"\n",
    "    print(msg)\n",
    "usernames = ['hannah', 'ty', 'margot']\n",
    "greet_users(usernames)"
   ]
  },
  {
   "cell_type": "code",
   "execution_count": 5,
   "metadata": {},
   "outputs": [
    {
     "name": "stdout",
     "output_type": "stream",
     "text": [
      "Printing model: dodecahedron\n",
      "Printing model: robot pendant\n",
      "Printing model: iphone case\n",
      "\n",
      "The following models have been printed:\n",
      "dodecahedron\n",
      "robot pendant\n",
      "iphone case\n"
     ]
    }
   ],
   "source": [
    "# Modifying a List in a Function\n",
    "\n",
    "# Start with some designs that need to be printed.\n",
    "unprinted_designs = ['iphone case', 'robot pendant', 'dodecahedron']\n",
    "completed_models = []\n",
    "\n",
    "# Simulate printing each design, until none are left.\n",
    "# Move each design to completed_models after printing.\n",
    "while unprinted_designs:\n",
    "    current_design = unprinted_designs.pop()\n",
    "\n",
    "    # Simulate creating a 3D print from the design.\n",
    "    print(\"Printing model: \" + current_design)\n",
    "    completed_models.append(current_design)\n",
    " \n",
    "# Display all completed models.\n",
    "print(\"\\nThe following models have been printed:\")\n",
    "for completed_model in completed_models:\n",
    "    print(completed_model)"
   ]
  },
  {
   "cell_type": "code",
   "execution_count": 6,
   "metadata": {},
   "outputs": [
    {
     "name": "stdout",
     "output_type": "stream",
     "text": [
      "Printing model: dodecahedron\n",
      "Printing model: robot pendant\n",
      "Printing model: iphone case\n",
      "\n",
      "The following models have been printed:\n",
      "dodecahedron\n",
      "robot pendant\n",
      "iphone case\n"
     ]
    }
   ],
   "source": [
    "def print_models(unprinted_designs, completed_models):\n",
    "    \"\"\"\n",
    "    Simulate printing each design, until none are left.\n",
    "    Move each design to completed_models after printing.\n",
    "    \"\"\"\n",
    "    while unprinted_designs:\n",
    "        current_design = unprinted_designs.pop()\n",
    "        \n",
    "        # Simulate creating a 3D print from the design.\n",
    "        print(\"Printing model: \" + current_design)\n",
    "        completed_models.append(current_design)\n",
    "    \n",
    "def show_completed_models(completed_models):\n",
    "        \"\"\"Show all the models that were printed.\"\"\"\n",
    "        print(\"\\nThe following models have been printed:\")\n",
    "        for completed_model in completed_models:\n",
    "            print(completed_model)\n",
    " \n",
    "unprinted_designs = ['iphone case', 'robot pendant', 'dodecahedron']\n",
    "completed_models = []\n",
    "print_models(unprinted_designs, completed_models)\n",
    "show_completed_models(completed_models)"
   ]
  },
  {
   "cell_type": "code",
   "execution_count": 7,
   "metadata": {},
   "outputs": [],
   "source": [
    "# Preventing a Function from Modifying a List\n",
    "\n",
    "# function_name(list_name[:])\n",
    "\n",
    "print_models(unprinted_designs[:], completed_models)"
   ]
  },
  {
   "cell_type": "markdown",
   "metadata": {},
   "source": [
    "# Passing an Arbitrary Number of Arguments"
   ]
  },
  {
   "cell_type": "code",
   "execution_count": 8,
   "metadata": {},
   "outputs": [
    {
     "name": "stdout",
     "output_type": "stream",
     "text": [
      "('pepperoni',)\n",
      "('mushrooms', 'green peppers', 'extra cheese')\n"
     ]
    }
   ],
   "source": [
    "def make_pizza(*toppings):\n",
    " \"\"\"Print the list of toppings that have been requested.\"\"\"\n",
    " print(toppings)\n",
    " \n",
    "make_pizza('pepperoni')\n",
    "make_pizza('mushrooms', 'green peppers', 'extra cheese')"
   ]
  },
  {
   "cell_type": "code",
   "execution_count": 9,
   "metadata": {},
   "outputs": [
    {
     "name": "stdout",
     "output_type": "stream",
     "text": [
      "\n",
      "Making a pizza with the following toppings:\n",
      "- pepperoni\n",
      "\n",
      "Making a pizza with the following toppings:\n",
      "- mushrooms\n",
      "- green peppers\n",
      "- extra cheese\n"
     ]
    }
   ],
   "source": [
    "def make_pizza(*toppings):\n",
    " \"\"\"Summarize the pizza we are about to make.\"\"\"\n",
    " print(\"\\nMaking a pizza with the following toppings:\")\n",
    " for topping in toppings:\n",
    "    print(\"- \" + topping)\n",
    " \n",
    "make_pizza('pepperoni')\n",
    "make_pizza('mushrooms', 'green peppers', 'extra cheese')"
   ]
  },
  {
   "cell_type": "code",
   "execution_count": 11,
   "metadata": {},
   "outputs": [
    {
     "name": "stdout",
     "output_type": "stream",
     "text": [
      "\n",
      "Making a 16-inch pizza with the following toppings:\n",
      "- pepperoni\n",
      "\n",
      "Making a 12-inch pizza with the following toppings:\n",
      "- mushrooms\n",
      "- green peppers\n",
      "- extra cheese\n"
     ]
    }
   ],
   "source": [
    "# Mixing Positional and Arbitrary Arguments\n",
    "\n",
    "def make_pizza(size, *toppings): \n",
    "    \"\"\"Summarize the pizza we are about to make.\"\"\"\n",
    "    print(\"\\nMaking a \" + str(size) + \n",
    "    \"-inch pizza with the following toppings:\") \n",
    "    for topping in toppings: \n",
    "        print(\"- \" + topping) \n",
    " \n",
    "make_pizza(16, 'pepperoni') \n",
    "make_pizza(12, 'mushrooms', 'green peppers', 'extra cheese')"
   ]
  },
  {
   "cell_type": "code",
   "execution_count": 12,
   "metadata": {},
   "outputs": [
    {
     "name": "stdout",
     "output_type": "stream",
     "text": [
      "{'first_name': 'albert', 'last_name': 'einstein', 'location': 'princeton', 'field': 'physics'}\n"
     ]
    }
   ],
   "source": [
    "# Using Arbitrary Keyword Arguments\n",
    "\n",
    "def build_profile(first, last, **user_info):\n",
    "    \"\"\"Build a dictionary containing everything we know about a user.\"\"\"\n",
    "    profile = {}\n",
    "    profile['first_name'] = first\n",
    "    profile['last_name'] = last\n",
    "    for key, value in user_info.items():\n",
    "        profile[key] = value\n",
    "    return profile\n",
    "\n",
    "user_profile = build_profile('albert', 'einstein', location='princeton', field='physics')\n",
    "print(user_profile)"
   ]
  },
  {
   "cell_type": "markdown",
   "metadata": {},
   "source": [
    "# Storing Your Functions in Modules"
   ]
  },
  {
   "cell_type": "code",
   "execution_count": 15,
   "metadata": {},
   "outputs": [
    {
     "name": "stdout",
     "output_type": "stream",
     "text": [
      "Writing files/pizza.py\n"
     ]
    }
   ],
   "source": [
    "%%writefile files/pizza.py\n",
    "\n",
    "# Importing an Entire Module\n",
    "\n",
    "def make_pizza(size, *toppings):\n",
    "    \"\"\"Summarize the pizza we are about to make.\"\"\"\n",
    "    print(\"\\nMaking a \" + str(size) +\n",
    "    \"-inch pizza with the following toppings:\")\n",
    "    for topping in toppings:\n",
    "        print(\"- \" + topping)"
   ]
  },
  {
   "cell_type": "code",
   "execution_count": 17,
   "metadata": {},
   "outputs": [
    {
     "data": {
      "text/plain": [
       "'c:\\\\Users\\\\GURINDERJEET KAUR\\\\Gurinder Data\\\\100_days_of_learning\\\\python\\\\book_Python_Crash_Course_by_Eric_Matthes'"
      ]
     },
     "execution_count": 17,
     "metadata": {},
     "output_type": "execute_result"
    }
   ],
   "source": [
    "pwd"
   ]
  },
  {
   "cell_type": "code",
   "execution_count": 29,
   "metadata": {},
   "outputs": [
    {
     "name": "stdout",
     "output_type": "stream",
     "text": [
      "Overwriting making_pizzas.py\n"
     ]
    }
   ],
   "source": [
    "%%writefile making_pizzas.py\n",
    "\n",
    "from files import pizza\n",
    "pizza.make_pizza(16, 'pepperoni')\n",
    "pizza.make_pizza(12, 'mushrooms', 'green peppers', 'extra cheese')"
   ]
  },
  {
   "cell_type": "code",
   "execution_count": 30,
   "metadata": {},
   "outputs": [
    {
     "name": "stdout",
     "output_type": "stream",
     "text": [
      "\n",
      "Making a 16-inch pizza with the following toppings:\n",
      "- pepperoni\n",
      "\n",
      "Making a 12-inch pizza with the following toppings:\n",
      "- mushrooms\n",
      "- green peppers\n",
      "- extra cheese\n"
     ]
    }
   ],
   "source": [
    "!python making_pizzas.py\n",
    "\n",
    "# module_name.function_name()"
   ]
  },
  {
   "cell_type": "code",
   "execution_count": 31,
   "metadata": {},
   "outputs": [
    {
     "name": "stdout",
     "output_type": "stream",
     "text": [
      "\n",
      "Making a 16-inch pizza with the following toppings:\n",
      "- pepperoni\n",
      "\n",
      "Making a 12-inch pizza with the following toppings:\n",
      "- mushrooms\n",
      "- green peppers\n",
      "- extra cheese\n"
     ]
    }
   ],
   "source": [
    "# Importing Specific Functions\n",
    "\n",
    "# from module_name import function_name\n",
    "# from module_name import function_0, function_1, function_2\n",
    "\n",
    "from files.pizza import make_pizza\n",
    "make_pizza(16, 'pepperoni')\n",
    "make_pizza(12, 'mushrooms', 'green peppers', 'extra cheese')"
   ]
  },
  {
   "cell_type": "code",
   "execution_count": 32,
   "metadata": {},
   "outputs": [
    {
     "name": "stdout",
     "output_type": "stream",
     "text": [
      "\n",
      "Making a 16-inch pizza with the following toppings:\n",
      "- pepperoni\n",
      "\n",
      "Making a 12-inch pizza with the following toppings:\n",
      "- mushrooms\n",
      "- green peppers\n",
      "- extra cheese\n"
     ]
    }
   ],
   "source": [
    "# Using as to Give a Function an Alias\n",
    "\n",
    "from files.pizza import make_pizza as mp\n",
    "mp(16, 'pepperoni')\n",
    "mp(12, 'mushrooms', 'green peppers', 'extra cheese')"
   ]
  },
  {
   "cell_type": "code",
   "execution_count": 33,
   "metadata": {},
   "outputs": [],
   "source": [
    "# from module_name import function_name as fn"
   ]
  },
  {
   "cell_type": "code",
   "execution_count": 34,
   "metadata": {},
   "outputs": [
    {
     "name": "stdout",
     "output_type": "stream",
     "text": [
      "\n",
      "Making a 16-inch pizza with the following toppings:\n",
      "- pepperoni\n",
      "\n",
      "Making a 12-inch pizza with the following toppings:\n",
      "- mushrooms\n",
      "- green peppers\n",
      "- extra cheese\n"
     ]
    }
   ],
   "source": [
    "# Using as to Give a Module an Alias\n",
    "# import module_name as mn\n",
    "\n",
    "import files.pizza as p\n",
    "p.make_pizza(16, 'pepperoni')\n",
    "p.make_pizza(12, 'mushrooms', 'green peppers', 'extra cheese')"
   ]
  },
  {
   "cell_type": "code",
   "execution_count": 35,
   "metadata": {},
   "outputs": [
    {
     "name": "stdout",
     "output_type": "stream",
     "text": [
      "\n",
      "Making a 16-inch pizza with the following toppings:\n",
      "- pepperoni\n",
      "\n",
      "Making a 12-inch pizza with the following toppings:\n",
      "- mushrooms\n",
      "- green peppers\n",
      "- extra cheese\n"
     ]
    }
   ],
   "source": [
    "# Importing All Functions in a Module\n",
    "# from module_name import *\n",
    "\n",
    "from files.pizza import *\n",
    "make_pizza(16, 'pepperoni')\n",
    "make_pizza(12, 'mushrooms', 'green peppers', 'extra cheese')"
   ]
  },
  {
   "cell_type": "markdown",
   "metadata": {},
   "source": [
    "# Styling Functions"
   ]
  },
  {
   "cell_type": "code",
   "execution_count": null,
   "metadata": {},
   "outputs": [],
   "source": [
    "# def function_name(parameter_0, parameter_1='default value')\n",
    "    \n",
    "# function_name(value_0, parameter_1='value')"
   ]
  },
  {
   "cell_type": "code",
   "execution_count": 37,
   "metadata": {},
   "outputs": [],
   "source": [
    "# def function_name(parameter_0, parameter_1, parameter_2, parameter_3, parameter_4, parameter_5):\n",
    "    # function body..."
   ]
  },
  {
   "cell_type": "code",
   "execution_count": null,
   "metadata": {},
   "outputs": [],
   "source": []
  }
 ],
 "metadata": {
  "kernelspec": {
   "display_name": "Python 3",
   "language": "python",
   "name": "python3"
  },
  "language_info": {
   "codemirror_mode": {
    "name": "ipython",
    "version": 3
   },
   "file_extension": ".py",
   "mimetype": "text/x-python",
   "name": "python",
   "nbconvert_exporter": "python",
   "pygments_lexer": "ipython3",
   "version": "3.12.1"
  }
 },
 "nbformat": 4,
 "nbformat_minor": 2
}
