{
 "cells": [
  {
   "cell_type": "markdown",
   "metadata": {},
   "source": [
    "# Creating and Using a Class"
   ]
  },
  {
   "cell_type": "code",
   "execution_count": 1,
   "metadata": {},
   "outputs": [],
   "source": [
    "# Creating the Dog Class\n",
    "\n",
    "class Dog():\n",
    "    \"\"\"A simple attempt to model a dog.\"\"\" \n",
    "    \n",
    "    def __init__(self, name, age):\n",
    "        \"\"\"Initialize name and age attributes.\"\"\"\n",
    "        self.name = name\n",
    "        self.age = age\n",
    "    \n",
    "    def sit(self):\n",
    "        \"\"\"Simulate a dog sitting in response to a command.\"\"\"\n",
    "        print(self.name.title() + \" is now sitting.\")\n",
    "\n",
    "    def roll_over(self):\n",
    "        \"\"\"Simulate rolling over in response to a command.\"\"\"\n",
    "        print(self.name.title() + \" rolled over!\")"
   ]
  },
  {
   "cell_type": "code",
   "execution_count": 2,
   "metadata": {},
   "outputs": [
    {
     "name": "stdout",
     "output_type": "stream",
     "text": [
      "My dog's name is Willie.\n",
      "My dog is 6 years old.\n"
     ]
    }
   ],
   "source": [
    "# The __init__() Method\n",
    "\n",
    "# Making an Instance from a Class\n",
    "\n",
    "my_dog = Dog('willie', 6)\n",
    "print(\"My dog's name is \" + my_dog.name.title() + \".\")\n",
    "print(\"My dog is \" + str(my_dog.age) + \" years old.\")"
   ]
  },
  {
   "cell_type": "code",
   "execution_count": 3,
   "metadata": {},
   "outputs": [
    {
     "name": "stdout",
     "output_type": "stream",
     "text": [
      "Willie is now sitting.\n",
      "Willie rolled over!\n"
     ]
    }
   ],
   "source": [
    "# Accessing Attributes\n",
    " \n",
    "my_dog = Dog('willie', 6)\n",
    "my_dog.sit()\n",
    "my_dog.roll_over()"
   ]
  },
  {
   "cell_type": "code",
   "execution_count": 4,
   "metadata": {},
   "outputs": [
    {
     "name": "stdout",
     "output_type": "stream",
     "text": [
      "My dog's name is Willie.\n",
      "My dog is 6 years old.\n",
      "Willie is now sitting.\n",
      "\n",
      "Your dog's name is Lucy.\n",
      "Your dog is 3 years old.\n",
      "Lucy is now sitting.\n"
     ]
    }
   ],
   "source": [
    "# Creating Multiple Instances\n",
    "\n",
    "my_dog = Dog('willie', 6)\n",
    "your_dog = Dog('lucy', 3)\n",
    "print(\"My dog's name is \" + my_dog.name.title() + \".\")\n",
    "print(\"My dog is \" + str(my_dog.age) + \" years old.\")\n",
    "my_dog.sit()\n",
    "print(\"\\nYour dog's name is \" + your_dog.name.title() + \".\")\n",
    "print(\"Your dog is \" + str(your_dog.age) + \" years old.\")\n",
    "your_dog.sit()"
   ]
  },
  {
   "cell_type": "markdown",
   "metadata": {},
   "source": [
    "# Working with Classes and Instances"
   ]
  },
  {
   "cell_type": "code",
   "execution_count": 5,
   "metadata": {},
   "outputs": [
    {
     "name": "stdout",
     "output_type": "stream",
     "text": [
      "2016 Audi A4\n"
     ]
    }
   ],
   "source": [
    "# The Car Class\n",
    "\n",
    "class Car():\n",
    " \"\"\"A simple attempt to represent a car.\"\"\"\n",
    " \n",
    " def __init__(self, make, model, year):\n",
    "    \"\"\"Initialize attributes to describe a car.\"\"\"\n",
    "    self.make = make\n",
    "    self.model = model\n",
    "    self.year = year\n",
    "    \n",
    " def get_descriptive_name(self):\n",
    "    \"\"\"Return a neatly formatted descriptive name.\"\"\"\n",
    "    long_name = str(self.year) + ' ' + self.make + ' ' + self.model\n",
    "    return long_name.title()\n",
    " \n",
    "my_new_car = Car('audi', 'a4', 2016)\n",
    "print(my_new_car.get_descriptive_name())"
   ]
  },
  {
   "cell_type": "code",
   "execution_count": 6,
   "metadata": {},
   "outputs": [
    {
     "name": "stdout",
     "output_type": "stream",
     "text": [
      "2016 Audi A4\n",
      "This car has 0 miles on it.\n"
     ]
    }
   ],
   "source": [
    "# Setting a Default Value for an Attribute\n",
    "\n",
    "class Car():\n",
    " \n",
    "    def __init__(self, make, model, year):\n",
    "        \"\"\"Initialize attributes to describe a car.\"\"\"\n",
    "        self.make = make\n",
    "        self.model = model\n",
    "        self.year = year\n",
    "        self.odometer_reading = 0\n",
    " \n",
    "    def get_descriptive_name(self):\n",
    "        \"\"\"Return a neatly formatted descriptive name.\"\"\"\n",
    "        long_name = str(self.year) + ' ' + self.make + ' ' + self.model\n",
    "        return long_name.title()\n",
    " \n",
    "    def read_odometer(self):\n",
    "        \"\"\"Print a statement showing the car's mileage.\"\"\"\n",
    "        print(\"This car has \" + str(self.odometer_reading) + \" miles on it.\")\n",
    " \n",
    "my_new_car = Car('audi', 'a4', 2016)\n",
    "print(my_new_car.get_descriptive_name())\n",
    "my_new_car.read_odometer()"
   ]
  },
  {
   "cell_type": "code",
   "execution_count": 7,
   "metadata": {},
   "outputs": [
    {
     "name": "stdout",
     "output_type": "stream",
     "text": [
      "2016 Audi A4\n",
      "This car has 23 miles on it.\n"
     ]
    }
   ],
   "source": [
    "# Modifying Attribute Values\n",
    "\n",
    "# Modifying an Attribute’s Value Directly\n",
    "\n",
    "class Car():\n",
    " \n",
    "    def __init__(self, make, model, year):\n",
    "        \"\"\"Initialize attributes to describe a car.\"\"\"\n",
    "        self.make = make\n",
    "        self.model = model\n",
    "        self.year = year\n",
    "        self.odometer_reading = 0\n",
    " \n",
    "    def get_descriptive_name(self):\n",
    "        \"\"\"Return a neatly formatted descriptive name.\"\"\"\n",
    "        long_name = str(self.year) + ' ' + self.make + ' ' + self.model\n",
    "        return long_name.title()\n",
    " \n",
    "    def read_odometer(self):\n",
    "        \"\"\"Print a statement showing the car's mileage.\"\"\"\n",
    "        print(\"This car has \" + str(self.odometer_reading) + \" miles on it.\")\n",
    " \n",
    "my_new_car = Car('audi', 'a4', 2016)\n",
    "print(my_new_car.get_descriptive_name())\n",
    "\n",
    "my_new_car.odometer_reading = 23\n",
    "my_new_car.read_odometer()"
   ]
  },
  {
   "cell_type": "code",
   "execution_count": 8,
   "metadata": {},
   "outputs": [
    {
     "name": "stdout",
     "output_type": "stream",
     "text": [
      "2016 Audi A4\n",
      "This car has 23 miles on it.\n"
     ]
    }
   ],
   "source": [
    "# Modifying an Attribute’s Value Through a Method\n",
    "\n",
    "class Car():\n",
    " \n",
    "    def __init__(self, make, model, year):\n",
    "        \"\"\"Initialize attributes to describe a car.\"\"\"\n",
    "        self.make = make\n",
    "        self.model = model\n",
    "        self.year = year\n",
    "        self.odometer_reading = 0\n",
    " \n",
    "    def get_descriptive_name(self):\n",
    "        \"\"\"Return a neatly formatted descriptive name.\"\"\"\n",
    "        long_name = str(self.year) + ' ' + self.make + ' ' + self.model\n",
    "        return long_name.title()\n",
    " \n",
    "    def read_odometer(self):\n",
    "        \"\"\"Print a statement showing the car's mileage.\"\"\"\n",
    "        print(\"This car has \" + str(self.odometer_reading) + \" miles on it.\")\n",
    " \n",
    "    def update_odometer(self, mileage):\n",
    "        \"\"\"Set the odometer reading to the given value.\"\"\"\n",
    "        self.odometer_reading = mileage\n",
    " \n",
    "my_new_car = Car('audi', 'a4', 2016)\n",
    "print(my_new_car.get_descriptive_name())\n",
    "\n",
    "my_new_car.update_odometer(23)\n",
    "my_new_car.read_odometer()"
   ]
  },
  {
   "cell_type": "code",
   "execution_count": 9,
   "metadata": {},
   "outputs": [],
   "source": [
    "class Car():\n",
    "    def __init__(self, make, model, year):\n",
    "        \"\"\"Initialize attributes to describe a car.\"\"\"\n",
    "        self.make = make\n",
    "        self.model = model\n",
    "        self.year = year\n",
    "        self.odometer_reading = 0\n",
    " \n",
    "    def get_descriptive_name(self):\n",
    "        \"\"\"Return a neatly formatted descriptive name.\"\"\"\n",
    "        long_name = str(self.year) + ' ' + self.make + ' ' + self.model\n",
    "        return long_name.title()\n",
    " \n",
    "    def read_odometer(self):\n",
    "        \"\"\"Print a statement showing the car's mileage.\"\"\"\n",
    "        print(\"This car has \" + str(self.odometer_reading) + \" miles on it.\")\n",
    " \n",
    "    def update_odometer(self, mileage):\n",
    "        \"\"\"Set the odometer reading to the given value.\"\"\"\n",
    "        self.odometer_reading = mileage \n",
    " \n",
    "    def update_odometer(self, mileage):\n",
    "        \"\"\"\n",
    "        Set the odometer reading to the given value.\n",
    "        Reject the change if it attempts to roll the odometer back.\n",
    "        \"\"\"\n",
    "        if mileage >= self.odometer_reading:\n",
    "            self.odometer_reading = mileage\n",
    "        else:\n",
    "            print(\"You can't roll back an odometer!\")"
   ]
  },
  {
   "cell_type": "code",
   "execution_count": 10,
   "metadata": {},
   "outputs": [
    {
     "name": "stdout",
     "output_type": "stream",
     "text": [
      "2013 Subaru Outback\n",
      "This car has 23500 miles on it.\n",
      "This car has 23600 miles on it.\n"
     ]
    }
   ],
   "source": [
    "# Incrementing an Attribute’s Value Through a Method\n",
    "\n",
    "class Car():\n",
    "    def __init__(self, make, model, year):\n",
    "        \"\"\"Initialize attributes to describe a car.\"\"\"\n",
    "        self.make = make\n",
    "        self.model = model\n",
    "        self.year = year\n",
    "        self.odometer_reading = 0\n",
    " \n",
    "    def get_descriptive_name(self):\n",
    "        \"\"\"Return a neatly formatted descriptive name.\"\"\"\n",
    "        long_name = str(self.year) + ' ' + self.make + ' ' + self.model\n",
    "        return long_name.title()\n",
    " \n",
    "    def read_odometer(self):\n",
    "        \"\"\"Print a statement showing the car's mileage.\"\"\"\n",
    "        print(\"This car has \" + str(self.odometer_reading) + \" miles on it.\")\n",
    " \n",
    "    def update_odometer(self, mileage):\n",
    "        \"\"\"Set the odometer reading to the given value.\"\"\"\n",
    "        self.odometer_reading = mileage \n",
    " \n",
    "    def update_odometer(self, mileage):\n",
    "        \"\"\"\n",
    "        Set the odometer reading to the given value.\n",
    "        Reject the change if it attempts to roll the odometer back.\n",
    "        \"\"\"\n",
    "        if mileage >= self.odometer_reading:\n",
    "            self.odometer_reading = mileage\n",
    "        else:\n",
    "            print(\"You can't roll back an odometer!\")\n",
    " \n",
    "    def increment_odometer(self, miles):\n",
    "        \"\"\"Add the given amount to the odometer reading.\"\"\"\n",
    "        self.odometer_reading += miles\n",
    " \n",
    "my_used_car = Car('subaru', 'outback', 2013)\n",
    "print(my_used_car.get_descriptive_name())\n",
    "my_used_car.update_odometer(23500)\n",
    "my_used_car.read_odometer()\n",
    "my_used_car.increment_odometer(100)\n",
    "my_used_car.read_odometer()"
   ]
  },
  {
   "cell_type": "markdown",
   "metadata": {},
   "source": [
    "You can use methods like this to control how users of your program update values \n",
    "such as an odometer reading, but anyone with access to the program can set the odometer reading to any value by accessing the attribute directly. Effective security takes \n",
    "extreme attention to detail in addition to basic checks like those shown here."
   ]
  },
  {
   "cell_type": "markdown",
   "metadata": {},
   "source": [
    "# Inheritance"
   ]
  },
  {
   "cell_type": "code",
   "execution_count": 11,
   "metadata": {},
   "outputs": [
    {
     "name": "stdout",
     "output_type": "stream",
     "text": [
      "2016 Tesla Model S\n"
     ]
    }
   ],
   "source": [
    "# The __init__() Method for a Child Class\n",
    "\n",
    "class Car():\n",
    "    \"\"\"A simple attempt to represent a car.\"\"\"\n",
    "    \n",
    "    def __init__(self, make, model, year):\n",
    "        self.make = make\n",
    "        self.model = model\n",
    "        self.year = year\n",
    "        self.odometer_reading = 0\n",
    "    \n",
    "    def get_descriptive_name(self):\n",
    "        long_name = str(self.year) + ' ' + self.make + ' ' + self.model\n",
    "        return long_name.title()\n",
    "    \n",
    "    def read_odometer(self):\n",
    "        print(\"This car has \" + str(self.odometer_reading) + \" miles on it.\")\n",
    "    \n",
    "    def update_odometer(self, mileage):\n",
    "        if mileage >= self.odometer_reading:\n",
    "            self.odometer_reading = mileage\n",
    "        else:\n",
    "            print(\"You can't roll back an odometer!\")\n",
    "    \n",
    "    def increment_odometer(self, miles):\n",
    "        self.odometer_reading += miles\n",
    "\n",
    "class ElectricCar(Car):\n",
    "    \"\"\"Represent aspects of a car, specific to electric vehicles.\"\"\"\n",
    "    def __init__(self, make, model, year):\n",
    "        \"\"\"Initialize attributes of the parent class.\"\"\"\n",
    "        super().__init__(make, model, year)\n",
    " \n",
    "my_tesla = ElectricCar('tesla', 'model s', 2016)\n",
    "print(my_tesla.get_descriptive_name())"
   ]
  },
  {
   "cell_type": "code",
   "execution_count": 12,
   "metadata": {},
   "outputs": [
    {
     "name": "stdout",
     "output_type": "stream",
     "text": [
      "2016 Tesla Model S\n",
      "This car has a 70-kWh battery.\n"
     ]
    }
   ],
   "source": [
    "# Defining Attributes and Methods for the Child Class\n",
    "\n",
    "class ElectricCar(Car):\n",
    "    \"\"\"Represent aspects of a car, specific to electric vehicles.\"\"\"\n",
    "    \n",
    "    def __init__(self, make, model, year):\n",
    "        \"\"\"\n",
    "        Initialize attributes of the parent class.\n",
    "        Then initialize attributes specific to an electric car.\n",
    "        \"\"\"\n",
    "        super().__init__(make, model, year)\n",
    "        self.battery_size = 70\n",
    "    \n",
    "    def describe_battery(self):\n",
    "        \"\"\"Print a statement describing the battery size.\"\"\"\n",
    "        print(\"This car has a \" + str(self.battery_size) + \"-kWh battery.\")\n",
    "\n",
    "my_tesla = ElectricCar('tesla', 'model s', 2016)\n",
    "print(my_tesla.get_descriptive_name())\n",
    "my_tesla.describe_battery()"
   ]
  },
  {
   "cell_type": "code",
   "execution_count": 13,
   "metadata": {},
   "outputs": [],
   "source": [
    "# Overriding Methods from the Parent Class\n",
    "\n",
    "class ElectricCar(Car):\n",
    "    \"\"\"Represent aspects of a car, specific to electric vehicles.\"\"\"\n",
    "    \n",
    "    def __init__(self, make, model, year):\n",
    "        \"\"\"\n",
    "        Initialize attributes of the parent class.\n",
    "        Then initialize attributes specific to an electric car.\n",
    "        \"\"\"\n",
    "        super().__init__(make, model, year)\n",
    "        self.battery_size = 70\n",
    "    \n",
    "    def describe_battery(self):\n",
    "        \"\"\"Print a statement describing the battery size.\"\"\"\n",
    "        print(\"This car has a \" + str(self.battery_size) + \"-kWh battery.\")\n",
    "\n",
    "    def fill_gas_tank():\n",
    "        \"\"\"Electric cars don't have gas tanks.\"\"\"\n",
    "        print(\"This car doesn't need a gas tank!\")"
   ]
  },
  {
   "cell_type": "code",
   "execution_count": 17,
   "metadata": {},
   "outputs": [
    {
     "name": "stdout",
     "output_type": "stream",
     "text": [
      "2016 Tesla Model S\n",
      "This car has a 70-kWh battery.\n",
      "This car can go approximately 240 miles on a full charge.\n"
     ]
    }
   ],
   "source": [
    "# Instances as Attributes\n",
    "\n",
    "class Battery():\n",
    " \"\"\"A simple attempt to model a battery for an electric car.\"\"\"\n",
    " \n",
    " def __init__(self, battery_size=70):\n",
    "    \"\"\"Initialize the battery's attributes.\"\"\"\n",
    "    self.battery_size = battery_size\n",
    "\n",
    " def describe_battery(self):\n",
    "    \"\"\"Print a statement describing the battery size.\"\"\"\n",
    "    print(\"This car has a \" + str(self.battery_size) + \"-kWh battery.\") \n",
    "    \n",
    " def get_range(self):\n",
    "    \"\"\"Print a statement about the range this battery provides.\"\"\"\n",
    "    if self.battery_size == 70:\n",
    "        range = 240\n",
    "    elif self.battery_size == 85:\n",
    "        range = 270\n",
    "    \n",
    "    message = \"This car can go approximately \" + str(range)\n",
    "    message += \" miles on a full charge.\"\n",
    "    print(message)\n",
    "\n",
    "class ElectricCar(Car):\n",
    "    \"\"\"Represent aspects of a car, specific to electric vehicles.\"\"\"\n",
    "    \n",
    "    def __init__(self, make, model, year):\n",
    "        \"\"\"\n",
    "        Initialize attributes of the parent class.\n",
    "        Then initialize attributes specific to an electric car.\n",
    "        \"\"\"\n",
    "        super().__init__(make, model, year)\n",
    "        self.battery = Battery()\n",
    " \n",
    "my_tesla = ElectricCar('tesla', 'model s', 2016)\n",
    "print(my_tesla.get_descriptive_name())\n",
    "my_tesla.battery.describe_battery()\n",
    "my_tesla.battery.get_range()"
   ]
  },
  {
   "cell_type": "markdown",
   "metadata": {},
   "source": [
    "# Importing Classes"
   ]
  },
  {
   "cell_type": "code",
   "execution_count": 34,
   "metadata": {},
   "outputs": [
    {
     "name": "stdout",
     "output_type": "stream",
     "text": [
      "Overwriting files/car.py\n"
     ]
    }
   ],
   "source": [
    "%%writefile files/car.py\n",
    "\n",
    "# Importing a Single Class\n",
    "\n",
    "\"\"\"A class that can be used to represent a car.\"\"\"\n",
    "class Car():\n",
    " \"\"\"A simple attempt to represent a car.\"\"\"\n",
    " \n",
    " def __init__(self, make, model, year):\n",
    "    \"\"\"Initialize attributes to describe a car.\"\"\"\n",
    "    self.make = make\n",
    "    self.model = model\n",
    "    self.year = year\n",
    "    self.odometer_reading = 0\n",
    " \n",
    " def get_descriptive_name(self):\n",
    "    \"\"\"Return a neatly formatted descriptive name.\"\"\"\n",
    "    long_name = str(self.year) + ' ' + self.make + ' ' + self.model\n",
    "    return long_name.title()\n",
    " \n",
    " def read_odometer(self):\n",
    "    \"\"\"Print a statement showing the car's mileage.\"\"\"\n",
    "    print(\"This car has \" + str(self.odometer_reading) + \" miles on it.\")\n",
    " \n",
    " def update_odometer(self, mileage):\n",
    "    \"\"\"\n",
    "    Set the odometer reading to the given value.\n",
    "    Reject the change if it attempts to roll the odometer back.\n",
    "    \"\"\"\n",
    "    if mileage >= self.odometer_reading:\n",
    "        self.odometer_reading = mileage\n",
    "    else:\n",
    "        print(\"You can't roll back an odometer!\")\n",
    " \n",
    " def increment_odometer(self, miles):\n",
    "    \"\"\"Add the given amount to the odometer reading.\"\"\"\n",
    "    self.odometer_reading += miles"
   ]
  },
  {
   "cell_type": "code",
   "execution_count": 35,
   "metadata": {},
   "outputs": [
    {
     "name": "stdout",
     "output_type": "stream",
     "text": [
      "Overwriting files/my_car.py\n"
     ]
    }
   ],
   "source": [
    "%%writefile files/my_car.py\n",
    "\n",
    "from car import Car\n",
    "my_new_car = Car('audi', 'a4', 2016)\n",
    "print(my_new_car.get_descriptive_name())\n",
    "my_new_car.odometer_reading = 23\n",
    "my_new_car.read_odometer()"
   ]
  },
  {
   "cell_type": "code",
   "execution_count": 36,
   "metadata": {},
   "outputs": [
    {
     "name": "stdout",
     "output_type": "stream",
     "text": [
      "2016 Audi A4\n",
      "This car has 23 miles on it.\n"
     ]
    }
   ],
   "source": [
    "!python files/my_car.py"
   ]
  },
  {
   "cell_type": "code",
   "execution_count": 37,
   "metadata": {},
   "outputs": [
    {
     "name": "stdout",
     "output_type": "stream",
     "text": [
      "Overwriting files/car.py\n"
     ]
    }
   ],
   "source": [
    "%%writefile files/car.py\n",
    "\n",
    "# Storing Multiple Classes in a Module\n",
    "\n",
    "# Importing a Single Class\n",
    "\n",
    "\"\"\"A class that can be used to represent a car.\"\"\"\n",
    "\n",
    "class Car():\n",
    " \"\"\"A simple attempt to represent a car.\"\"\"\n",
    " \n",
    " def __init__(self, make, model, year):\n",
    "    \"\"\"Initialize attributes to describe a car.\"\"\"\n",
    "    self.make = make\n",
    "    self.model = model\n",
    "    self.year = year\n",
    "    self.odometer_reading = 0\n",
    " \n",
    " def get_descriptive_name(self):\n",
    "    \"\"\"Return a neatly formatted descriptive name.\"\"\"\n",
    "    long_name = str(self.year) + ' ' + self.make + ' ' + self.model\n",
    "    return long_name.title()\n",
    " \n",
    " def read_odometer(self):\n",
    "    \"\"\"Print a statement showing the car's mileage.\"\"\"\n",
    "    print(\"This car has \" + str(self.odometer_reading) + \" miles on it.\")\n",
    " \n",
    " def update_odometer(self, mileage):\n",
    "    \"\"\"\n",
    "    Set the odometer reading to the given value.\n",
    "    Reject the change if it attempts to roll the odometer back.\n",
    "    \"\"\"\n",
    "    if mileage >= self.odometer_reading:\n",
    "        self.odometer_reading = mileage\n",
    "    else:\n",
    "        print(\"You can't roll back an odometer!\")\n",
    " \n",
    " def increment_odometer(self, miles):\n",
    "    \"\"\"Add the given amount to the odometer reading.\"\"\"\n",
    "    self.odometer_reading += miles\n",
    "\n",
    "class Battery():\n",
    " \"\"\"A simple attempt to model a battery for an electric car.\"\"\"\n",
    " \n",
    " def __init__(self, battery_size=60):\n",
    "    \"\"\"Initialize the batteery's attributes.\"\"\"\n",
    "    self.battery_size = battery_size\n",
    "\n",
    " def describe_battery(self):\n",
    "    \"\"\"Print a statement describing the battery size.\"\"\"\n",
    "    print(\"This car has a \" + str(self.battery_size) + \"-kWh battery.\") \n",
    " \n",
    " def get_range(self):\n",
    "    \"\"\"Print a statement about the range this battery provides.\"\"\"\n",
    "    if self.battery_size == 70:\n",
    "        range = 240\n",
    "    elif self.battery_size == 85:\n",
    "        range = 270\n",
    " \n",
    " message = \"This car can go approximately \" + str(range)\n",
    " message += \" miles on a full charge.\"\n",
    " print(message)\n",
    " \n",
    "class ElectricCar(Car):\n",
    " \"\"\"Models aspects of a car, specific to electric vehicles.\"\"\"\n",
    " \n",
    " def __init__(self, make, model, year):\n",
    "    \"\"\"\n",
    "    Initialize attributes of the parent class.\n",
    "    Then initialize attributes specific to an electric car.\n",
    "    \"\"\"\n",
    "    super().__init__(make, model, year)\n",
    "    self.battery = Battery()"
   ]
  },
  {
   "cell_type": "code",
   "execution_count": 38,
   "metadata": {},
   "outputs": [
    {
     "name": "stdout",
     "output_type": "stream",
     "text": [
      "Overwriting files/my_electric_car.py\n"
     ]
    }
   ],
   "source": [
    "%%writefile files/my_electric_car.py\n",
    "\n",
    "from car import ElectricCar\n",
    "my_tesla = ElectricCar('tesla', 'model s', 2016)\n",
    "print(my_tesla.get_descriptive_name())\n",
    "my_tesla.battery.describe_battery()\n",
    "my_tesla.battery.get_range()"
   ]
  },
  {
   "cell_type": "code",
   "execution_count": 39,
   "metadata": {},
   "outputs": [
    {
     "name": "stdout",
     "output_type": "stream",
     "text": [
      "This car can go approximately <class 'range'> miles on a full charge.\n",
      "2016 Tesla Model S\n",
      "This car has a 60-kWh battery.\n"
     ]
    }
   ],
   "source": [
    "!python files/my_electric_car.py"
   ]
  },
  {
   "cell_type": "code",
   "execution_count": 40,
   "metadata": {},
   "outputs": [
    {
     "name": "stdout",
     "output_type": "stream",
     "text": [
      "Writing files/my_cars.py\n"
     ]
    }
   ],
   "source": [
    "%%writefile files/my_cars.py\n",
    "\n",
    "# Importing Multiple Classes from a Module\n",
    "\n",
    "from car import Car, ElectricCar\n",
    "my_beetle = Car('volkswagen', 'beetle', 2016)\n",
    "print(my_beetle.get_descriptive_name())\n",
    "my_tesla = ElectricCar('tesla', 'roadster', 2016)\n",
    "print(my_tesla.get_descriptive_name())\n"
   ]
  },
  {
   "cell_type": "code",
   "execution_count": 41,
   "metadata": {},
   "outputs": [
    {
     "name": "stdout",
     "output_type": "stream",
     "text": [
      "This car can go approximately <class 'range'> miles on a full charge.\n",
      "2016 Volkswagen Beetle\n",
      "2016 Tesla Roadster\n"
     ]
    }
   ],
   "source": [
    "!python files/my_cars.py"
   ]
  },
  {
   "cell_type": "code",
   "execution_count": 42,
   "metadata": {},
   "outputs": [
    {
     "name": "stdout",
     "output_type": "stream",
     "text": [
      "Overwriting files/my_cars.py\n"
     ]
    }
   ],
   "source": [
    "%%writefile files/my_cars.py\n",
    "\n",
    "# Importing an Entire Module\n",
    "\n",
    "import car\n",
    "my_beetle = car.Car('volkswagen', 'beetle', 2016)\n",
    "print(my_beetle.get_descriptive_name())\n",
    "my_tesla = car.ElectricCar('tesla', 'roadster', 2016)\n",
    "print(my_tesla.get_descriptive_name())"
   ]
  },
  {
   "cell_type": "code",
   "execution_count": 43,
   "metadata": {},
   "outputs": [
    {
     "name": "stdout",
     "output_type": "stream",
     "text": [
      "This car can go approximately <class 'range'> miles on a full charge.\n",
      "2016 Volkswagen Beetle\n",
      "2016 Tesla Roadster\n"
     ]
    }
   ],
   "source": [
    "!python files/my_cars.py"
   ]
  },
  {
   "cell_type": "code",
   "execution_count": 44,
   "metadata": {},
   "outputs": [],
   "source": [
    "# Importing All Classes from a Module\n",
    "\n",
    "# from module_name import *"
   ]
  },
  {
   "cell_type": "code",
   "execution_count": 47,
   "metadata": {},
   "outputs": [
    {
     "name": "stdout",
     "output_type": "stream",
     "text": [
      "Overwriting files/electric_car.py\n"
     ]
    }
   ],
   "source": [
    "%%writefile files/electric_car.py\n",
    "\n",
    "# Importing a Module into a Module\n",
    "\n",
    "\"\"\"A set of classes that can be used to represent electric cars.\"\"\"\n",
    "\n",
    "from car import Car\n",
    "\n",
    "class Battery():\n",
    " \"\"\"A simple attempt to model a battery for an electric car.\"\"\"\n",
    " \n",
    " def __init__(self, battery_size=60):\n",
    "    \"\"\"Initialize the batteery's attributes.\"\"\"\n",
    "    self.battery_size = battery_size\n",
    "\n",
    " def describe_battery(self):\n",
    "    \"\"\"Print a statement describing the battery size.\"\"\"\n",
    "    print(\"This car has a \" + str(self.battery_size) + \"-kWh battery.\") \n",
    " \n",
    " def get_range(self):\n",
    "    \"\"\"Print a statement about the range this battery provides.\"\"\"\n",
    "    if self.battery_size == 70:\n",
    "        range = 240\n",
    "    elif self.battery_size == 85:\n",
    "        range = 270\n",
    " \n",
    " message = \"This car can go approximately \" + str(range)\n",
    " message += \" miles on a full charge.\"\n",
    " print(message)\n",
    " \n",
    "class ElectricCar(Car):\n",
    " \"\"\"Models aspects of a car, specific to electric vehicles.\"\"\"\n",
    " \n",
    " def __init__(self, make, model, year):\n",
    "    \"\"\"\n",
    "    Initialize attributes of the parent class.\n",
    "    Then initialize attributes specific to an electric car.\n",
    "    \"\"\"\n",
    "    super().__init__(make, model, year)\n",
    "    self.battery = Battery()"
   ]
  },
  {
   "cell_type": "code",
   "execution_count": 48,
   "metadata": {},
   "outputs": [
    {
     "name": "stdout",
     "output_type": "stream",
     "text": [
      "Overwriting files/car.py\n"
     ]
    }
   ],
   "source": [
    "%%writefile files/car.py\n",
    "\n",
    "class Car():\n",
    " \"\"\"A simple attempt to represent a car.\"\"\"\n",
    " \n",
    " def __init__(self, make, model, year):\n",
    "    \"\"\"Initialize attributes to describe a car.\"\"\"\n",
    "    self.make = make\n",
    "    self.model = model\n",
    "    self.year = year\n",
    "    self.odometer_reading = 0\n",
    " \n",
    " def get_descriptive_name(self):\n",
    "    \"\"\"Return a neatly formatted descriptive name.\"\"\"\n",
    "    long_name = str(self.year) + ' ' + self.make + ' ' + self.model\n",
    "    return long_name.title()\n",
    " \n",
    " def read_odometer(self):\n",
    "    \"\"\"Print a statement showing the car's mileage.\"\"\"\n",
    "    print(\"This car has \" + str(self.odometer_reading) + \" miles on it.\")\n",
    " \n",
    " def update_odometer(self, mileage):\n",
    "    \"\"\"\n",
    "    Set the odometer reading to the given value.\n",
    "    Reject the change if it attempts to roll the odometer back.\n",
    "    \"\"\"\n",
    "    if mileage >= self.odometer_reading:\n",
    "        self.odometer_reading = mileage\n",
    "    else:\n",
    "        print(\"You can't roll back an odometer!\")\n",
    " \n",
    " def increment_odometer(self, miles):\n",
    "    \"\"\"Add the given amount to the odometer reading.\"\"\"\n",
    "    self.odometer_reading += miles\n"
   ]
  },
  {
   "cell_type": "code",
   "execution_count": 49,
   "metadata": {},
   "outputs": [
    {
     "name": "stdout",
     "output_type": "stream",
     "text": [
      "Overwriting files/my_cars.py\n"
     ]
    }
   ],
   "source": [
    "%%writefile files/my_cars.py\n",
    "\n",
    "from car import Car\n",
    "from electric_car import ElectricCar\n",
    "my_beetle = Car('volkswagen', 'beetle', 2016)\n",
    "print(my_beetle.get_descriptive_name())\n",
    "my_tesla = ElectricCar('tesla', 'roadster', 2016)\n",
    "print(my_tesla.get_descriptive_name())"
   ]
  },
  {
   "cell_type": "code",
   "execution_count": 50,
   "metadata": {},
   "outputs": [
    {
     "name": "stdout",
     "output_type": "stream",
     "text": [
      "This car can go approximately <class 'range'> miles on a full charge.\n",
      "2016 Volkswagen Beetle\n",
      "2016 Tesla Roadster\n"
     ]
    }
   ],
   "source": [
    "!python files/my_cars.py"
   ]
  },
  {
   "cell_type": "markdown",
   "metadata": {},
   "source": [
    "# The Python Standard Library"
   ]
  },
  {
   "cell_type": "code",
   "execution_count": 51,
   "metadata": {},
   "outputs": [
    {
     "name": "stdout",
     "output_type": "stream",
     "text": [
      "Writing files/favorite_languages.py\n"
     ]
    }
   ],
   "source": [
    "%%writefile files/favorite_languages.py\n",
    "\n",
    "from collections import OrderedDict\n",
    "favorite_languages = OrderedDict()\n",
    "favorite_languages['jen'] = 'python'\n",
    "favorite_languages['sarah'] = 'c'\n",
    "favorite_languages['edward'] = 'ruby'\n",
    "favorite_languages['phil'] = 'python'\n",
    "for name, language in favorite_languages.items():\n",
    "    print(name.title() + \"'s favorite language is \" +\n",
    "    language.title() + \".\")"
   ]
  },
  {
   "cell_type": "code",
   "execution_count": 52,
   "metadata": {},
   "outputs": [
    {
     "name": "stdout",
     "output_type": "stream",
     "text": [
      "Jen's favorite language is Python.\n",
      "Sarah's favorite language is C.\n",
      "Edward's favorite language is Ruby.\n",
      "Phil's favorite language is Python.\n"
     ]
    }
   ],
   "source": [
    "!python files/favorite_languages.py"
   ]
  },
  {
   "cell_type": "markdown",
   "metadata": {},
   "source": [
    "# Styling Classes"
   ]
  },
  {
   "cell_type": "markdown",
   "metadata": {},
   "source": [
    "Class names should be written in CamelCaps. To do this, capitalize the \n",
    "first letter of each word in the name, and don’t use underscores. Instance \n",
    "and module names should be written in lowercase with underscores between \n",
    "word"
   ]
  },
  {
   "cell_type": "markdown",
   "metadata": {},
   "source": [
    "Every class should have a docstring immediately following the class definition. The docstring should be a brief description of what the class does, \n",
    "and you should follow the same formatting conventions you used for writing \n",
    "docstrings in functions. Each module should also have a docstring describing what the classes in a module can be used for.\n",
    "\n",
    "\n",
    "You can use blank lines to organize code, but don’t use them excessively. Within a class you can use one blank line between methods, and \n",
    "within a module you can use two blank lines to separate classes.\n",
    "\n",
    "\n",
    "If you need to import a module from the standard library and a module \n",
    "that you wrote, place the import statement for the standard library module \n",
    "first. Then add a blank line and the import statement for the module you \n",
    "wrote. In programs with multiple import statements, this convention makes \n",
    "it easier to see where the different modules used in the program come from."
   ]
  },
  {
   "cell_type": "code",
   "execution_count": null,
   "metadata": {},
   "outputs": [],
   "source": []
  }
 ],
 "metadata": {
  "kernelspec": {
   "display_name": "Python 3",
   "language": "python",
   "name": "python3"
  },
  "language_info": {
   "codemirror_mode": {
    "name": "ipython",
    "version": 3
   },
   "file_extension": ".py",
   "mimetype": "text/x-python",
   "name": "python",
   "nbconvert_exporter": "python",
   "pygments_lexer": "ipython3",
   "version": "3.12.1"
  }
 },
 "nbformat": 4,
 "nbformat_minor": 2
}
