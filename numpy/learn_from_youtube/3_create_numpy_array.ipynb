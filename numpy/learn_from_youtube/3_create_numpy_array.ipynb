{
 "cells": [
  {
   "cell_type": "markdown",
   "metadata": {},
   "source": [
    "Creating NumPy Arrays\n",
    "- use function np.array()\n",
    "- ndarray (n-dimensional array)"
   ]
  },
  {
   "cell_type": "code",
   "execution_count": 1,
   "metadata": {},
   "outputs": [
    {
     "name": "stdout",
     "output_type": "stream",
     "text": [
      "[1 2 3]\n"
     ]
    }
   ],
   "source": [
    "import numpy as np\n",
    "a = np.array([1,2,3])\n",
    "print(a)"
   ]
  },
  {
   "cell_type": "code",
   "execution_count": 2,
   "metadata": {},
   "outputs": [
    {
     "name": "stdout",
     "output_type": "stream",
     "text": [
      "[1 2 3 4]\n"
     ]
    }
   ],
   "source": [
    "x = [1,2,3,4] # python list\n",
    "y = np.array(x) # converted to numpy array\n",
    "print(y)"
   ]
  },
  {
   "cell_type": "code",
   "execution_count": 4,
   "metadata": {},
   "outputs": [
    {
     "name": "stdout",
     "output_type": "stream",
     "text": [
      "<class 'list'>\n",
      "<class 'numpy.ndarray'>\n"
     ]
    }
   ],
   "source": [
    "print(type(x))\n",
    "print(type(y))"
   ]
  },
  {
   "cell_type": "code",
   "execution_count": 5,
   "metadata": {},
   "outputs": [
    {
     "name": "stdout",
     "output_type": "stream",
     "text": [
      "['14' '15' '98' '78']\n"
     ]
    }
   ],
   "source": [
    "l = []\n",
    "\n",
    "for i in range(1,5):\n",
    "    int_1 = input(\"enter:\")\n",
    "    l.append(int_1)\n",
    "\n",
    "print(np.array(l))"
   ]
  },
  {
   "cell_type": "markdown",
   "metadata": {},
   "source": [
    "Dimensions in Arrays:\n",
    "- 1-D Arrays [1 2 3 4]\n",
    "- 2-D Arrays [[ ]]\n",
    "- 3-D Arrays [[[ ]]]\n",
    "- Higher Dimensional Arrays\n",
    "\n",
    "\n",
    "- use ndim function to check dimensions"
   ]
  },
  {
   "cell_type": "code",
   "execution_count": 6,
   "metadata": {},
   "outputs": [
    {
     "name": "stdout",
     "output_type": "stream",
     "text": [
      "1\n"
     ]
    }
   ],
   "source": [
    "print(y.ndim)"
   ]
  },
  {
   "cell_type": "code",
   "execution_count": 7,
   "metadata": {},
   "outputs": [
    {
     "name": "stdout",
     "output_type": "stream",
     "text": [
      "[[1 2 3 4]\n",
      " [1 2 3 4]]\n",
      "2\n"
     ]
    }
   ],
   "source": [
    "ar2 = np.array([[1,2,3,4], [1,2,3,4]])\n",
    "print(ar2)\n",
    "print(ar2.ndim)"
   ]
  },
  {
   "cell_type": "code",
   "execution_count": 8,
   "metadata": {},
   "outputs": [
    {
     "name": "stdout",
     "output_type": "stream",
     "text": [
      "[[[1 2 3 4]\n",
      "  [1 2 3 4]\n",
      "  [1 2 3 4]]]\n",
      "3\n"
     ]
    }
   ],
   "source": [
    "ar3 = np.array([[[1,2,3,4],[1,2,3,4],[1,2,3,4]]])\n",
    "print(ar3)\n",
    "print(ar3.ndim)"
   ]
  },
  {
   "cell_type": "code",
   "execution_count": 10,
   "metadata": {},
   "outputs": [
    {
     "name": "stdout",
     "output_type": "stream",
     "text": [
      "[[[[[[[[[[1 2 3 4]]]]]]]]]]\n",
      "10\n"
     ]
    }
   ],
   "source": [
    "arn = np.array([1,2,3,4], ndmin=10) # creating 10 dimensional array\n",
    "print(arn)\n",
    "print(arn.ndim)"
   ]
  },
  {
   "cell_type": "code",
   "execution_count": null,
   "metadata": {},
   "outputs": [],
   "source": []
  },
  {
   "cell_type": "markdown",
   "metadata": {},
   "source": [
    "NumPy is a fundamental package for scientific computing in Python, particularly for working with large, multi-dimensional arrays and matrices, along with a collection of mathematical functions to operate on these arrays. Here's a brief guide on creating NumPy arrays:\n",
    "\n",
    "### 1. **Importing NumPy:**\n",
    "   To use NumPy, you need to import it into your Python script or Jupyter notebook:\n",
    "\n",
    "   ```python\n",
    "   import numpy as np\n",
    "   ```\n",
    "\n",
    "### 2. **Creating Arrays:**\n",
    "\n",
    "#### a. **From Python Lists:**\n",
    "   You can create a NumPy array from a Python list using the `np.array()` function:\n",
    "\n",
    "   ```python\n",
    "   my_list = [1, 2, 3, 4, 5]\n",
    "   my_array = np.array(my_list)\n",
    "   ```\n",
    "\n",
    "#### b. **Specifying Data Type:**\n",
    "   You can explicitly specify the data type of the array elements using the `dtype` parameter:\n",
    "\n",
    "   ```python\n",
    "   my_array = np.array([1, 2, 3, 4, 5], dtype=np.float64)\n",
    "   ```\n",
    "\n",
    "#### c. **Multi-dimensional Arrays:**\n",
    "   NumPy arrays can be multi-dimensional. You can create 2D arrays using nested lists:\n",
    "\n",
    "   ```python\n",
    "   nested_list = [[1, 2, 3], [4, 5, 6], [7, 8, 9]]\n",
    "   my_2d_array = np.array(nested_list)\n",
    "   ```\n",
    "\n",
    "   For higher-dimensional arrays, you can nest lists further.\n",
    "\n",
    "### 3. **Special Arrays:**\n",
    "\n",
    "#### a. **Zeros and Ones:**\n",
    "   You can create arrays of zeros or ones using `np.zeros()` and `np.ones()`:\n",
    "\n",
    "   ```python\n",
    "   zeros_array = np.zeros((3, 4))  # 3x4 array of zeros\n",
    "   ones_array = np.ones((2, 3))    # 2x3 array of ones\n",
    "   ```\n",
    "\n",
    "#### b. **Identity Matrix:**\n",
    "   To create an identity matrix, you can use `np.eye()`:\n",
    "\n",
    "   ```python\n",
    "   identity_matrix = np.eye(3)  # 3x3 identity matrix\n",
    "   ```\n",
    "\n",
    "### 4. **Array Operations:**\n",
    "\n",
    "#### a. **Array Arithmetic:**\n",
    "   NumPy arrays support element-wise arithmetic operations:\n",
    "\n",
    "   ```python\n",
    "   a = np.array([1, 2, 3])\n",
    "   b = np.array([4, 5, 6])\n",
    "\n",
    "   sum_array = a + b\n",
    "   difference_array = a - b\n",
    "   product_array = a * b\n",
    "   ```\n",
    "\n",
    "#### b. **Universal Functions (ufuncs):**\n",
    "   NumPy provides a range of universal functions for element-wise operations, such as `np.sin()`, `np.cos()`, `np.exp()`, etc.\n",
    "\n",
    "   ```python\n",
    "   angle_array = np.array([0, np.pi/2, np.pi])\n",
    "   sin_values = np.sin(angle_array)\n",
    "   ```\n",
    "\n",
    "### 5. **Array Slicing and Indexing:**\n",
    "   You can access elements, rows, and columns of NumPy arrays using indexing and slicing:\n",
    "\n",
    "   ```python\n",
    "   my_array = np.array([[1, 2, 3], [4, 5, 6], [7, 8, 9]])\n",
    "\n",
    "   # Accessing elements\n",
    "   element = my_array[0, 1]  # 2nd element in the 1st row\n",
    "\n",
    "   # Slicing\n",
    "   row_slice = my_array[1, :]   # 2nd row\n",
    "   column_slice = my_array[:, 2]  # 3rd column\n",
    "   ```\n",
    "\n",
    "### 6. **Array Shape and Reshaping:**\n",
    "   You can check and change the shape of an array using `shape` and `reshape`:\n",
    "\n",
    "   ```python\n",
    "   original_array = np.array([1, 2, 3, 4, 5, 6])\n",
    "   reshaped_array = original_array.reshape((2, 3))  # Reshape to 2x3 array\n",
    "   ```\n",
    "\n",
    "These are just some basic operations, and NumPy offers a wide range of functions and methods for more advanced manipulations of arrays. Understanding these basics is crucial for working with data in various scientific and data science applications."
   ]
  },
  {
   "cell_type": "markdown",
   "metadata": {},
   "source": []
  },
  {
   "cell_type": "markdown",
   "metadata": {},
   "source": [
    "In NumPy, the term \"dimensions\" refers to the size or extent of each axis in an array. Arrays can be one-dimensional, two-dimensional, or multi-dimensional, and understanding the dimensions of an array is essential for indexing, slicing, and performing various operations.\n",
    "\n",
    "### 1. **One-Dimensional Arrays:**\n",
    "   - A one-dimensional array is essentially a list of elements.\n",
    "   - Accessing elements involves specifying a single index.\n",
    "\n",
    "   ```python\n",
    "   import numpy as np\n",
    "\n",
    "   arr_1d = np.array([1, 2, 3, 4, 5])\n",
    "   print(arr_1d[2])  # Accessing the third element\n",
    "   ```\n",
    "\n",
    "### 2. **Two-Dimensional Arrays:**\n",
    "   - Two-dimensional arrays are like tables with rows and columns.\n",
    "   - Accessing elements requires specifying row and column indices.\n",
    "\n",
    "   ```python\n",
    "   arr_2d = np.array([[1, 2, 3], [4, 5, 6], [7, 8, 9]])\n",
    "   print(arr_2d[1, 2])  # Accessing the element in the second row, third column\n",
    "   ```\n",
    "\n",
    "### 3. **Multi-Dimensional Arrays:**\n",
    "   - Arrays with more than two dimensions are considered multi-dimensional.\n",
    "   - Accessing elements involves specifying indices along each dimension.\n",
    "\n",
    "   ```python\n",
    "   arr_3d = np.array([[[1, 2], [3, 4]], [[5, 6], [7, 8]]])\n",
    "   print(arr_3d[1, 0, 1])  # Accessing the element in the second \"layer,\" first row, second column\n",
    "   ```\n",
    "\n",
    "### 4. **Shape of an Array:**\n",
    "   - The shape of an array is a tuple indicating the size along each dimension.\n",
    "   - The `shape` attribute provides information about the array's dimensions.\n",
    "\n",
    "   ```python\n",
    "   print(arr_1d.shape)  # Output: (5,)\n",
    "   print(arr_2d.shape)  # Output: (3, 3)\n",
    "   print(arr_3d.shape)  # Output: (2, 2, 2)\n",
    "   ```\n",
    "\n",
    "### 5. **Reshaping Arrays:**\n",
    "   - You can change the shape of an array using the `reshape` method.\n",
    "   - The reshaped array should have the same number of elements as the original.\n",
    "\n",
    "   ```python\n",
    "   reshaped_arr = arr_1d.reshape((5, 1))  # Reshape to a column vector\n",
    "   ```\n",
    "\n",
    "### 6. **Adding Dimensions:**\n",
    "   - You can add dimensions to an existing array using `np.newaxis` or `np.expand_dims`.\n",
    "\n",
    "   ```python\n",
    "   new_dim_arr = arr_1d[:, np.newaxis]  # Adding a new axis to create a column vector\n",
    "   ```\n",
    "\n",
    "### 7. **Array Transposition:**\n",
    "   - Transposing an array swaps its dimensions.\n",
    "   - For a 2D array, this means switching rows and columns.\n",
    "\n",
    "   ```python\n",
    "   transposed_arr_2d = arr_2d.T\n",
    "   ```\n",
    "\n",
    "Understanding and managing dimensions in NumPy arrays is crucial when performing operations, reshaping data, and interfacing with other libraries and tools in the data science ecosystem. It's important to be aware of the shape and size of your arrays to ensure compatibility and correctness in various mathematical and machine learning operations."
   ]
  },
  {
   "cell_type": "markdown",
   "metadata": {},
   "source": []
  }
 ],
 "metadata": {
  "kernelspec": {
   "display_name": "Python 3",
   "language": "python",
   "name": "python3"
  },
  "language_info": {
   "codemirror_mode": {
    "name": "ipython",
    "version": 3
   },
   "file_extension": ".py",
   "mimetype": "text/x-python",
   "name": "python",
   "nbconvert_exporter": "python",
   "pygments_lexer": "ipython3",
   "version": "3.12.1"
  }
 },
 "nbformat": 4,
 "nbformat_minor": 2
}
