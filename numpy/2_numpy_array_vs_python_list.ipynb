{
 "cells": [
  {
   "cell_type": "markdown",
   "metadata": {},
   "source": [
    "Difference between NumPy Array and List in Python\n",
    "- Data types storage\n",
    "- Importing module\n",
    "- Numerical operation\n",
    "- Modification capabilities\n",
    "- Consumes less memory\n",
    "- Fast as compared to the python list\n",
    "- Convenient to use"
   ]
  },
  {
   "cell_type": "markdown",
   "metadata": {},
   "source": [
    "%timeit # works with one line\n",
    "\n",
    "%%timeit # works with complete program"
   ]
  },
  {
   "cell_type": "code",
   "execution_count": 2,
   "metadata": {},
   "outputs": [
    {
     "name": "stdout",
     "output_type": "stream",
     "text": [
      "592 ns ± 42.3 ns per loop (mean ± std. dev. of 7 runs, 1,000,000 loops each)\n"
     ]
    }
   ],
   "source": [
    "%timeit [j**4 for j in range(1,9)]"
   ]
  },
  {
   "cell_type": "code",
   "execution_count": 3,
   "metadata": {},
   "outputs": [
    {
     "name": "stdout",
     "output_type": "stream",
     "text": [
      "2.28 µs ± 148 ns per loop (mean ± std. dev. of 7 runs, 100,000 loops each)\n"
     ]
    }
   ],
   "source": [
    "import numpy as np\n",
    "\n",
    "%timeit np.arange(1,9)**4"
   ]
  },
  {
   "cell_type": "code",
   "execution_count": null,
   "metadata": {},
   "outputs": [],
   "source": []
  },
  {
   "cell_type": "markdown",
   "metadata": {},
   "source": [
    "**1. Data Types Storage:**\n",
    "\n",
    "- **NumPy Array:**\n",
    "  - NumPy arrays are homogeneous, meaning all elements of the array must be of the same data type.\n",
    "  - The data type is determined at the time of creation of the array and is fixed throughout its lifetime.\n",
    "\n",
    "- **Python List:**\n",
    "  - Lists in Python are heterogeneous, allowing elements of different data types in the same list.\n",
    "  - Each element in a Python list can have a different data type.\n",
    "\n",
    "**2. Importing Module:**\n",
    "\n",
    "- **NumPy Array:**\n",
    "  - To use NumPy, you typically import it using the alias `np`.\n",
    "\n",
    "  ```python\n",
    "  import numpy as np\n",
    "  ```\n",
    "\n",
    "- **Python List:**\n",
    "  - Lists are part of the core Python language, and no separate import is required.\n",
    "\n",
    "  ```python\n",
    "  # No separate import for lists\n",
    "  ```\n",
    "\n",
    "**3. Numerical Operation:**\n",
    "\n",
    "- **NumPy Array:**\n",
    "  - NumPy arrays support vectorized operations, meaning you can perform operations on entire arrays without the need for explicit looping.\n",
    "  - This leads to concise and efficient numerical operations.\n",
    "\n",
    "- **Python List:**\n",
    "  - Python lists require explicit looping for numerical operations.\n",
    "  - Operations are not vectorized, which can lead to less concise and less efficient code for numerical tasks.\n",
    "\n",
    "**4. Modification Capabilities:**\n",
    "\n",
    "- **NumPy Array:**\n",
    "  - NumPy arrays are more rigid when it comes to modifying their size or data type after creation.\n",
    "  - You can modify the elements of an array, but the size and data type are typically fixed.\n",
    "\n",
    "- **Python List:**\n",
    "  - Lists are more flexible and dynamic. You can easily modify the size and contents of a list during runtime.\n",
    "\n",
    "**5. Consumes Less Memory:**\n",
    "\n",
    "- **NumPy Array:**\n",
    "  - NumPy arrays are more memory-efficient than Python lists for large datasets because they are homogeneous, and the data type is fixed.\n",
    "\n",
    "- **Python List:**\n",
    "  - Lists are less memory-efficient for large datasets as they can store elements of different data types.\n",
    "\n",
    "**6. Fast as Compared to the Python List:**\n",
    "\n",
    "- **NumPy Array:**\n",
    "  - NumPy operations are implemented in C and Fortran, making them faster than equivalent operations on Python lists, especially for large datasets.\n",
    "\n",
    "- **Python List:**\n",
    "  - Python lists are interpreted and may involve more overhead, making them slower for numerical operations compared to NumPy arrays.\n",
    "\n",
    "**7. Convenient to Use:**\n",
    "\n",
    "- **NumPy Array:**\n",
    "  - NumPy provides a convenient and concise syntax for numerical operations, making it well-suited for scientific computing and data analysis.\n",
    "\n",
    "- **Python List:**\n",
    "  - Lists are more general-purpose and versatile, but for numerical tasks, they may require more code and be less efficient than NumPy arrays.\n",
    "\n",
    "In summary, NumPy arrays are optimized for numerical operations, memory efficiency, and convenience in scientific computing, while Python lists offer more flexibility but may be less efficient for numerical tasks. The choice between them depends on the specific requirements of the task at hand."
   ]
  },
  {
   "cell_type": "markdown",
   "metadata": {},
   "source": []
  }
 ],
 "metadata": {
  "kernelspec": {
   "display_name": "Python 3",
   "language": "python",
   "name": "python3"
  },
  "language_info": {
   "codemirror_mode": {
    "name": "ipython",
    "version": 3
   },
   "file_extension": ".py",
   "mimetype": "text/x-python",
   "name": "python",
   "nbconvert_exporter": "python",
   "pygments_lexer": "ipython3",
   "version": "3.12.1"
  }
 },
 "nbformat": 4,
 "nbformat_minor": 2
}
